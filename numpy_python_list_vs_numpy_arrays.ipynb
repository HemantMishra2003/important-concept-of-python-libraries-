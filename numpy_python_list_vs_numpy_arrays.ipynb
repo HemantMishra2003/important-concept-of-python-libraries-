{
  "cells": [
    {
      "cell_type": "markdown",
      "metadata": {
        "id": "view-in-github",
        "colab_type": "text"
      },
      "source": [
        "<a href=\"https://colab.research.google.com/github/HemantMishra2003/important-concept-of-python-libraries-/blob/main/python_list_vs_numpy_arrays.ipynb\" target=\"_parent\"><img src=\"https://colab.research.google.com/assets/colab-badge.svg\" alt=\"Open In Colab\"/></a>"
      ]
    },
    {
      "cell_type": "code",
      "source": [
        "import numpy as np\n"
      ],
      "metadata": {
        "id": "aZSbQkZaUTfe"
      },
      "execution_count": 47,
      "outputs": []
    },
    {
      "cell_type": "markdown",
      "source": [
        "numpy has no realtion with python ...its 3 rd party libarary wich is designed to operation numeric problem easily...and not to write so many code...."
      ],
      "metadata": {
        "id": "jcHPKK1pqQu7"
      }
    },
    {
      "cell_type": "code",
      "source": [
        "lista = range(100)"
      ],
      "metadata": {
        "id": "2oC9w-b4VPJi"
      },
      "execution_count": 35,
      "outputs": []
    },
    {
      "cell_type": "code",
      "source": [
        "arr11=np.arange(100)"
      ],
      "metadata": {
        "id": "1BLjOkrfVUX5"
      },
      "execution_count": 36,
      "outputs": []
    },
    {
      "cell_type": "code",
      "source": [
        "import sys"
      ],
      "metadata": {
        "id": "iPC_yhOnVaR8"
      },
      "execution_count": 37,
      "outputs": []
    },
    {
      "cell_type": "markdown",
      "source": [
        "above  function is of system and it tells the size of list and range"
      ],
      "metadata": {
        "id": "AYzVw3u4WEZy"
      }
    },
    {
      "cell_type": "code",
      "source": [
        "print(sys.getsizeof(87)*len(lista))"
      ],
      "metadata": {
        "colab": {
          "base_uri": "https://localhost:8080/"
        },
        "id": "NDTC9ZWhViQa",
        "outputId": "48ef28d1-4327-48c8-cfd3-48ffc9b981de"
      },
      "execution_count": 38,
      "outputs": [
        {
          "output_type": "stream",
          "name": "stdout",
          "text": [
            "2800\n"
          ]
        }
      ]
    },
    {
      "cell_type": "markdown",
      "source": [
        "2800 in byte   , here means that take the 1 digit and get the size then multiply the digit by the length of list  , u get the total memory occupied"
      ],
      "metadata": {
        "id": "hmIsZstTg_A9"
      }
    },
    {
      "cell_type": "code",
      "source": [
        "print(arr11.itemsize*arr11.size)"
      ],
      "metadata": {
        "colab": {
          "base_uri": "https://localhost:8080/"
        },
        "id": "uGTmeqp-WB8a",
        "outputId": "32454fd8-fbc2-4eed-f87a-675506b3ad8d"
      },
      "execution_count": 39,
      "outputs": [
        {
          "output_type": "stream",
          "name": "stdout",
          "text": [
            "800\n"
          ]
        }
      ]
    },
    {
      "cell_type": "markdown",
      "source": [
        "here array  syntax is of numpy array which stores same number data ,stores in lesser space but python list takes more space ...it maeans numby array is best.."
      ],
      "metadata": {
        "id": "abdYNwKijnZj"
      }
    },
    {
      "cell_type": "code",
      "source": [
        "import time"
      ],
      "metadata": {
        "id": "VTvg7Tdoji4N"
      },
      "execution_count": 40,
      "outputs": []
    },
    {
      "cell_type": "markdown",
      "source": [
        "to know how much  time takes in storing tha data we import first time module ,,its a library of python and all below operational syntax is the module of python time libarary"
      ],
      "metadata": {
        "id": "VQE9kbeykigO"
      }
    },
    {
      "cell_type": "markdown",
      "source": [
        "all below module of pthon time library"
      ],
      "metadata": {
        "id": "JTsf8N9hpIKv"
      }
    },
    {
      "cell_type": "code",
      "source": [
        "x = range(100000)"
      ],
      "metadata": {
        "id": "-0jKqWqskrN8"
      },
      "execution_count": 41,
      "outputs": []
    },
    {
      "cell_type": "code",
      "source": [
        "y  = range(100000,200000)"
      ],
      "metadata": {
        "id": "szeBU9RsmwDr"
      },
      "execution_count": 42,
      "outputs": []
    },
    {
      "cell_type": "code",
      "source": [
        "start_time = time.time()"
      ],
      "metadata": {
        "id": "ybnDkxdhm7_i"
      },
      "execution_count": 43,
      "outputs": []
    },
    {
      "cell_type": "code",
      "source": [
        "c=[(x+y) for x,y in zip(x,y)]"
      ],
      "metadata": {
        "id": "pqONyH_TnWxi"
      },
      "execution_count": 44,
      "outputs": []
    },
    {
      "cell_type": "code",
      "source": [
        "print(time.time()-start_time)"
      ],
      "metadata": {
        "colab": {
          "base_uri": "https://localhost:8080/"
        },
        "id": "zAR01W6MnzNg",
        "outputId": "729c2dee-4ab8-400b-dc48-5d715b4c730f"
      },
      "execution_count": 45,
      "outputs": [
        {
          "output_type": "stream",
          "name": "stdout",
          "text": [
            "1.0493485927581787\n"
          ]
        }
      ]
    },
    {
      "cell_type": "code",
      "source": [
        "a = np.arange(100000)"
      ],
      "metadata": {
        "id": "adoTDThUomFl"
      },
      "execution_count": null,
      "outputs": []
    },
    {
      "cell_type": "code",
      "source": [
        "b= np.arange(100000)"
      ],
      "metadata": {
        "id": "qK8SjCD_ouLc"
      },
      "execution_count": 46,
      "outputs": []
    },
    {
      "cell_type": "code",
      "source": [],
      "metadata": {
        "id": "YQTNnfVxo_hz"
      },
      "execution_count": null,
      "outputs": []
    }
  ],
  "metadata": {
    "colab": {
      "provenance": [],
      "include_colab_link": true
    },
    "kernelspec": {
      "display_name": "Python 3",
      "name": "python3"
    }
  },
  "nbformat": 4,
  "nbformat_minor": 0
}
