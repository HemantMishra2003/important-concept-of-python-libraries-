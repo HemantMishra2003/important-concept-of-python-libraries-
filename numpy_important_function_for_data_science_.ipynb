{
  "nbformat": 4,
  "nbformat_minor": 0,
  "metadata": {
    "colab": {
      "provenance": [],
      "authorship_tag": "ABX9TyPsQdeamDGYYwaWpXQpcMXd"
    },
    "kernelspec": {
      "name": "python3",
      "display_name": "Python 3"
    },
    "language_info": {
      "name": "python"
    }
  },
  "cells": [
    {
      "cell_type": "code",
      "execution_count": 1,
      "metadata": {
        "id": "XcHLTNoyus_k"
      },
      "outputs": [],
      "source": [
        "import numpy as np"
      ]
    },
    {
      "cell_type": "code",
      "source": [
        "np.random.random()"
      ],
      "metadata": {
        "colab": {
          "base_uri": "https://localhost:8080/"
        },
        "id": "LQyC-g7dvXUz",
        "outputId": "7fb1b3e4-aaa2-4edb-f092-44896d4510dd"
      },
      "execution_count": 2,
      "outputs": [
        {
          "output_type": "execute_result",
          "data": {
            "text/plain": [
              "0.3931650409029399"
            ]
          },
          "metadata": {},
          "execution_count": 2
        }
      ]
    },
    {
      "cell_type": "code",
      "source": [
        "np.random.random()"
      ],
      "metadata": {
        "colab": {
          "base_uri": "https://localhost:8080/"
        },
        "id": "oE2LnUBcvpaK",
        "outputId": "edd777ef-07db-4751-ed4c-1370818cbfa7"
      },
      "execution_count": 3,
      "outputs": [
        {
          "output_type": "execute_result",
          "data": {
            "text/plain": [
              "0.023661436291140814"
            ]
          },
          "metadata": {},
          "execution_count": 3
        }
      ]
    },
    {
      "cell_type": "markdown",
      "source": [
        "this function gives any random value between from 0 to 1"
      ],
      "metadata": {
        "id": "CaLP9yc-woCW"
      }
    },
    {
      "cell_type": "code",
      "source": [
        " np.random.seed(1)"
      ],
      "metadata": {
        "id": "TxDxk5AzwnAf"
      },
      "execution_count": 19,
      "outputs": []
    },
    {
      "cell_type": "code",
      "source": [
        "np.random.random()"
      ],
      "metadata": {
        "colab": {
          "base_uri": "https://localhost:8080/"
        },
        "id": "95prxCTgxe7L",
        "outputId": "90afe25e-213a-4659-8808-aca7f14c4998"
      },
      "execution_count": 20,
      "outputs": [
        {
          "output_type": "execute_result",
          "data": {
            "text/plain": [
              "0.417022004702574"
            ]
          },
          "metadata": {},
          "execution_count": 20
        }
      ]
    },
    {
      "cell_type": "code",
      "source": [
        " np.random.seed(1)"
      ],
      "metadata": {
        "id": "qSgASOYZxylb"
      },
      "execution_count": 22,
      "outputs": []
    },
    {
      "cell_type": "code",
      "source": [
        "np.random.random()"
      ],
      "metadata": {
        "colab": {
          "base_uri": "https://localhost:8080/"
        },
        "id": "8iw9r8g4xzbV",
        "outputId": "feb94ae5-984f-49be-f8b9-97df4b3230ec"
      },
      "execution_count": 24,
      "outputs": [
        {
          "output_type": "execute_result",
          "data": {
            "text/plain": [
              "0.7203244934421581"
            ]
          },
          "metadata": {},
          "execution_count": 24
        }
      ]
    },
    {
      "cell_type": "markdown",
      "source": [
        "so here a logic if we run the random function by integrating seed function  it gives the same number..."
      ],
      "metadata": {
        "id": "-uNSxTP-x2Tj"
      }
    },
    {
      "cell_type": "code",
      "source": [
        "np.random.uniform(3,10)"
      ],
      "metadata": {
        "colab": {
          "base_uri": "https://localhost:8080/"
        },
        "id": "O5TGBF8_yO5o",
        "outputId": "6a85980e-c07e-4442-ebce-507804504cfa"
      },
      "execution_count": 25,
      "outputs": [
        {
          "output_type": "execute_result",
          "data": {
            "text/plain": [
              "3.000800623721414"
            ]
          },
          "metadata": {},
          "execution_count": 25
        }
      ]
    },
    {
      "cell_type": "code",
      "source": [
        "np.random.uniform(3,10)"
      ],
      "metadata": {
        "colab": {
          "base_uri": "https://localhost:8080/"
        },
        "id": "psMt9XAv2je5",
        "outputId": "4592be5e-f194-4324-bbbc-fd681ffcf5ad"
      },
      "execution_count": 26,
      "outputs": [
        {
          "output_type": "execute_result",
          "data": {
            "text/plain": [
              "5.116328008422879"
            ]
          },
          "metadata": {},
          "execution_count": 26
        }
      ]
    },
    {
      "cell_type": "markdown",
      "source": [
        "so by this function we could generate a random value from specific range"
      ],
      "metadata": {
        "id": "8mzHb1qL2oL0"
      }
    },
    {
      "cell_type": "code",
      "source": [
        " np.random.uniform(1,100,10)"
      ],
      "metadata": {
        "colab": {
          "base_uri": "https://localhost:8080/"
        },
        "id": "9wohBWXN210R",
        "outputId": "6e69b73c-fc5c-4144-b97e-85cf82be160c"
      },
      "execution_count": 31,
      "outputs": [
        {
          "output_type": "execute_result",
          "data": {
            "text/plain": [
              "array([69.49583428, 32.23604747, 68.96359184, 83.62794152,  2.81053946,\n",
              "       75.26428718, 98.8972478 , 75.06839978, 28.76395521, 79.13865352])"
            ]
          },
          "metadata": {},
          "execution_count": 31
        }
      ]
    },
    {
      "cell_type": "markdown",
      "source": [
        "1,100 means that value will come  out between this range ...but ladt 10 digit is telling that only 10 elemment will be generate ....."
      ],
      "metadata": {
        "id": "wzP29SEa3GnR"
      }
    },
    {
      "cell_type": "code",
      "source": [
        "np.random.uniform(1,100,10).reshape(2,5)"
      ],
      "metadata": {
        "colab": {
          "base_uri": "https://localhost:8080/"
        },
        "id": "WHRmUfAz3eGL",
        "outputId": "0ddf8697-fe77-4931-b3dd-c9cfb50b5cca"
      },
      "execution_count": 4,
      "outputs": [
        {
          "output_type": "execute_result",
          "data": {
            "text/plain": [
              "array([[15.66178538, 69.56470905, 40.33807058,  1.39426087, 30.3948254 ],\n",
              "       [62.0521653 , 53.09388236, 99.2729599 , 14.07528454, 34.45067303]])"
            ]
          },
          "metadata": {},
          "execution_count": 4
        }
      ]
    },
    {
      "cell_type": "markdown",
      "source": [
        "by this function we could shape 1d array into 2 d array"
      ],
      "metadata": {
        "id": "YuSdy_BN3y9F"
      }
    },
    {
      "cell_type": "code",
      "source": [
        "np.random.uniform(1,100,10).reshape(5,2)"
      ],
      "metadata": {
        "colab": {
          "base_uri": "https://localhost:8080/"
        },
        "id": "yWKjI9ib3qBV",
        "outputId": "a38ca217-f782-4952-e763-828216ba774b"
      },
      "execution_count": 33,
      "outputs": [
        {
          "output_type": "execute_result",
          "data": {
            "text/plain": [
              "array([[49.66574277,  6.28289197],\n",
              "       [57.83764294, 15.52612892],\n",
              "       [59.34124815, 70.27607764],\n",
              "       [11.13110845, 41.99154279],\n",
              "       [69.74561562, 42.00374768]])"
            ]
          },
          "metadata": {},
          "execution_count": 33
        }
      ]
    },
    {
      "cell_type": "markdown",
      "source": [
        "by this function we could shape 1 d into an array int 2d"
      ],
      "metadata": {
        "id": "RAjXd56R34_G"
      }
    },
    {
      "cell_type": "code",
      "source": [
        "np.random.randint(1,10)"
      ],
      "metadata": {
        "colab": {
          "base_uri": "https://localhost:8080/"
        },
        "id": "nHZfCPER4EJO",
        "outputId": "8789666c-0131-4bc7-96f3-142575591b8e"
      },
      "execution_count": 34,
      "outputs": [
        {
          "output_type": "execute_result",
          "data": {
            "text/plain": [
              "9"
            ]
          },
          "metadata": {},
          "execution_count": 34
        }
      ]
    },
    {
      "cell_type": "code",
      "source": [
        "np.random.randint(1,10)"
      ],
      "metadata": {
        "colab": {
          "base_uri": "https://localhost:8080/"
        },
        "id": "KfdyiWWU5Q0h",
        "outputId": "4771bcf2-9013-4833-800b-e95bef0976dd"
      },
      "execution_count": 35,
      "outputs": [
        {
          "output_type": "execute_result",
          "data": {
            "text/plain": [
              "7"
            ]
          },
          "metadata": {},
          "execution_count": 35
        }
      ]
    },
    {
      "cell_type": "markdown",
      "source": [
        "by this function u could get random intezer...."
      ],
      "metadata": {
        "id": "6YzB3tNR5S6z"
      }
    },
    {
      "cell_type": "code",
      "source": [
        "np.random.randint(1,10,5)"
      ],
      "metadata": {
        "colab": {
          "base_uri": "https://localhost:8080/"
        },
        "id": "iBZpodgJ5Zt8",
        "outputId": "f87b38ab-c89d-47dc-b0f0-a2583a873a21"
      },
      "execution_count": 42,
      "outputs": [
        {
          "output_type": "execute_result",
          "data": {
            "text/plain": [
              "array([1, 2, 9, 3, 4])"
            ]
          },
          "metadata": {},
          "execution_count": 42
        }
      ]
    },
    {
      "cell_type": "markdown",
      "source": [
        "array created of 5 digit ...digits will be between from 1 to 10"
      ],
      "metadata": {
        "id": "Ob4b1kb35jJV"
      }
    },
    {
      "cell_type": "code",
      "source": [
        "np.random.randint(1,10,10).reshape(2,5)"
      ],
      "metadata": {
        "colab": {
          "base_uri": "https://localhost:8080/"
        },
        "id": "7I68NpzB5uP_",
        "outputId": "a632c139-92b6-4079-efe8-37b49822b847"
      },
      "execution_count": 51,
      "outputs": [
        {
          "output_type": "execute_result",
          "data": {
            "text/plain": [
              "array([[5, 7, 9, 9, 3],\n",
              "       [8, 6, 6, 5, 6]])"
            ]
          },
          "metadata": {},
          "execution_count": 51
        }
      ]
    },
    {
      "cell_type": "markdown",
      "source": [
        "1,10 :: means numbers will be come out between 1 to 10 ...\n",
        "10 :: means number will be total 10 elements\n",
        "reshape (2,5) :: means array 2 and 5 coloumn ..."
      ],
      "metadata": {
        "id": "S-xUewX7654x"
      }
    },
    {
      "cell_type": "markdown",
      "source": [
        "but to find the max number from the aaray we have to store the array into any variable"
      ],
      "metadata": {
        "id": "-6hKWXZF7la6"
      }
    },
    {
      "cell_type": "code",
      "source": [
        " v = np.random.randint(1,10,10).reshape(2,5)"
      ],
      "metadata": {
        "id": "pMI54RfJ7veo"
      },
      "execution_count": 67,
      "outputs": []
    },
    {
      "cell_type": "code",
      "source": [
        "v"
      ],
      "metadata": {
        "colab": {
          "base_uri": "https://localhost:8080/"
        },
        "id": "IcQow6gJ74GB",
        "outputId": "3c9cb546-5787-4462-da2a-ae85808d9403"
      },
      "execution_count": 66,
      "outputs": [
        {
          "output_type": "execute_result",
          "data": {
            "text/plain": [
              "array([[9, 6, 9, 2, 2],\n",
              "       [9, 8, 1, 4, 5]])"
            ]
          },
          "metadata": {},
          "execution_count": 66
        }
      ]
    },
    {
      "cell_type": "code",
      "source": [
        "np.max(v)"
      ],
      "metadata": {
        "colab": {
          "base_uri": "https://localhost:8080/"
        },
        "id": "OYvDKZo177H4",
        "outputId": "2afe8b74-59f1-4bfd-aecb-106c3596151f"
      },
      "execution_count": 58,
      "outputs": [
        {
          "output_type": "execute_result",
          "data": {
            "text/plain": [
              "np.int64(9)"
            ]
          },
          "metadata": {},
          "execution_count": 58
        }
      ]
    },
    {
      "cell_type": "markdown",
      "source": [
        "by storing the array  into the variable we get the maximum elelments..."
      ],
      "metadata": {
        "id": "0l6Dly6o8Ntj"
      }
    },
    {
      "cell_type": "code",
      "source": [
        "np.min(v)"
      ],
      "metadata": {
        "colab": {
          "base_uri": "https://localhost:8080/"
        },
        "id": "zOK0wcFC8QOO",
        "outputId": "5df9cf65-777e-441d-d49f-c4afcf8859dc"
      },
      "execution_count": 65,
      "outputs": [
        {
          "output_type": "execute_result",
          "data": {
            "text/plain": [
              "np.int64(1)"
            ]
          },
          "metadata": {},
          "execution_count": 65
        }
      ]
    },
    {
      "cell_type": "markdown",
      "source": [
        "we got the minimum elements"
      ],
      "metadata": {
        "id": "Mxqti-6Q8UQK"
      }
    },
    {
      "cell_type": "code",
      "source": [
        "np.argmax(v)"
      ],
      "metadata": {
        "colab": {
          "base_uri": "https://localhost:8080/"
        },
        "id": "EXw0vj5k8aSi",
        "outputId": "8834bd3a-1def-4f3d-f81a-3ba66838ef74"
      },
      "execution_count": 63,
      "outputs": [
        {
          "output_type": "execute_result",
          "data": {
            "text/plain": [
              "np.int64(0)"
            ]
          },
          "metadata": {},
          "execution_count": 63
        }
      ]
    },
    {
      "cell_type": "markdown",
      "source": [
        "it gives the  index value of maximum index value"
      ],
      "metadata": {
        "id": "qhm7gqT89A6_"
      }
    },
    {
      "cell_type": "code",
      "source": [
        "v[np.argmax(v)]"
      ],
      "metadata": {
        "collapsed": true,
        "id": "U-oydRDQ9PRU"
      },
      "execution_count": null,
      "outputs": []
    },
    {
      "cell_type": "markdown",
      "source": [
        "this function again  understand by the camous x from the last numy important function"
      ],
      "metadata": {
        "id": "j5nUJWNT-QjL"
      }
    },
    {
      "cell_type": "code",
      "source": [
        "v = np.random.randint(1,10,6)"
      ],
      "metadata": {
        "id": "UpSbplkj-a6Q"
      },
      "execution_count": 73,
      "outputs": []
    },
    {
      "cell_type": "code",
      "source": [
        "v"
      ],
      "metadata": {
        "colab": {
          "base_uri": "https://localhost:8080/"
        },
        "id": "H0lEeHVw-m20",
        "outputId": "35354008-1bd9-4084-fcae-0f749b76221f"
      },
      "execution_count": 74,
      "outputs": [
        {
          "output_type": "execute_result",
          "data": {
            "text/plain": [
              "array([1, 8, 3, 9, 4, 1])"
            ]
          },
          "metadata": {},
          "execution_count": 74
        }
      ]
    },
    {
      "cell_type": "code",
      "source": [
        "v = np.random.randint(1,10,6)"
      ],
      "metadata": {
        "id": "1Tkk3nBW-zk4"
      },
      "execution_count": 8,
      "outputs": []
    },
    {
      "cell_type": "code",
      "source": [
        "v"
      ],
      "metadata": {
        "colab": {
          "base_uri": "https://localhost:8080/"
        },
        "id": "NUNm9QqCcYXf",
        "outputId": "9d8e700d-6024-49f3-8ff9-633a9c559b6e"
      },
      "execution_count": 9,
      "outputs": [
        {
          "output_type": "execute_result",
          "data": {
            "text/plain": [
              "array([5, 3, 3, 3, 6, 6])"
            ]
          },
          "metadata": {},
          "execution_count": 9
        }
      ]
    },
    {
      "cell_type": "code",
      "source": [
        "v[v%2==1] = -1"
      ],
      "metadata": {
        "id": "IgbHwgzUcaKI"
      },
      "execution_count": 11,
      "outputs": []
    },
    {
      "cell_type": "markdown",
      "source": [
        "means the elemnt which devide from 2 and output gives 1 ...change that element  into the -1 and rest writes the same elements....."
      ],
      "metadata": {
        "id": "ppvaVMYmdMcO"
      }
    },
    {
      "cell_type": "code",
      "source": [
        "v"
      ],
      "metadata": {
        "colab": {
          "base_uri": "https://localhost:8080/"
        },
        "id": "OgsZw6gDck7i",
        "outputId": "d4071549-4aa2-4705-f127-cea027576e70"
      },
      "execution_count": 12,
      "outputs": [
        {
          "output_type": "execute_result",
          "data": {
            "text/plain": [
              "array([-1, -1, -1, -1,  6,  6])"
            ]
          },
          "metadata": {},
          "execution_count": 12
        }
      ]
    },
    {
      "cell_type": "code",
      "source": [
        "v = np.random.randint(1,50,6)"
      ],
      "metadata": {
        "id": "y9rL3FpPdDKT"
      },
      "execution_count": 16,
      "outputs": []
    },
    {
      "cell_type": "code",
      "source": [
        "v"
      ],
      "metadata": {
        "colab": {
          "base_uri": "https://localhost:8080/"
        },
        "id": "FbHp-QEGeCmA",
        "outputId": "5338e464-65f2-4fbb-9447-a73f354b325d"
      },
      "execution_count": 17,
      "outputs": [
        {
          "output_type": "execute_result",
          "data": {
            "text/plain": [
              "array([ 6, 45, 44, 47, 30, 30])"
            ]
          },
          "metadata": {},
          "execution_count": 17
        }
      ]
    },
    {
      "cell_type": "code",
      "source": [
        "np.where(v%2==1,-1 , v)"
      ],
      "metadata": {
        "colab": {
          "base_uri": "https://localhost:8080/"
        },
        "id": "YFK_62xeeD8i",
        "outputId": "0f1c0f46-5580-4976-e4c8-37f7567fc224"
      },
      "execution_count": 20,
      "outputs": [
        {
          "output_type": "execute_result",
          "data": {
            "text/plain": [
              "array([50, -1, 50, -1, 50, 50])"
            ]
          },
          "metadata": {},
          "execution_count": 20
        }
      ]
    },
    {
      "cell_type": "markdown",
      "source": [
        "did not get function ...go through campus x ..last numpy vdo"
      ],
      "metadata": {
        "id": "-OOGDmtme2Lf"
      }
    },
    {
      "cell_type": "code",
      "source": [
        "v = np.random.randint(1,50,10)"
      ],
      "metadata": {
        "id": "g3ouXxYee_2f"
      },
      "execution_count": 21,
      "outputs": []
    },
    {
      "cell_type": "code",
      "source": [
        "v"
      ],
      "metadata": {
        "colab": {
          "base_uri": "https://localhost:8080/"
        },
        "id": "yRIJBxXGfTFG",
        "outputId": "fc66fbfe-7fe9-4ba7-854f-1226e458fd57"
      },
      "execution_count": 23,
      "outputs": [
        {
          "output_type": "execute_result",
          "data": {
            "text/plain": [
              "array([10, 43, 28, 36, 39, 10,  1,  3, 45, 35])"
            ]
          },
          "metadata": {},
          "execution_count": 23
        }
      ]
    },
    {
      "cell_type": "code",
      "source": [
        "v = np.sort(v)"
      ],
      "metadata": {
        "id": "xhVLwycCfVgA"
      },
      "execution_count": 26,
      "outputs": []
    },
    {
      "cell_type": "markdown",
      "source": [
        "by this function we get sorted arry within the range ...either ascending or descending ......"
      ],
      "metadata": {
        "id": "-vAfXHbzgOAp"
      }
    },
    {
      "cell_type": "code",
      "source": [
        "v"
      ],
      "metadata": {
        "colab": {
          "base_uri": "https://localhost:8080/"
        },
        "id": "WDp20tBxf_PQ",
        "outputId": "aabf85c3-c907-401d-879b-3f1109eb7525"
      },
      "execution_count": 30,
      "outputs": [
        {
          "output_type": "execute_result",
          "data": {
            "text/plain": [
              "array([ 1,  3, 10, 10, 28, 35, 36, 39, 43, 45])"
            ]
          },
          "metadata": {},
          "execution_count": 30
        }
      ]
    },
    {
      "cell_type": "code",
      "source": [
        "np.percentile(v,25)"
      ],
      "metadata": {
        "colab": {
          "base_uri": "https://localhost:8080/"
        },
        "id": "eg_Hk_vZgXxa",
        "outputId": "2b5f51c2-169e-458b-ed4a-5e61f6dd260b"
      },
      "execution_count": 31,
      "outputs": [
        {
          "output_type": "execute_result",
          "data": {
            "text/plain": [
              "np.float64(10.0)"
            ]
          },
          "metadata": {},
          "execution_count": 31
        }
      ]
    },
    {
      "cell_type": "markdown",
      "source": [
        "means 25 percent elements  is less than 10 digits"
      ],
      "metadata": {
        "id": "xGPI4dbehASD"
      }
    },
    {
      "cell_type": "code",
      "source": [
        "np.percentile(v,50)"
      ],
      "metadata": {
        "colab": {
          "base_uri": "https://localhost:8080/"
        },
        "id": "DPQkEQjIhWaC",
        "outputId": "249d485c-fc97-413f-e3e2-6eef969d3d3f"
      },
      "execution_count": 32,
      "outputs": [
        {
          "output_type": "execute_result",
          "data": {
            "text/plain": [
              "np.float64(31.5)"
            ]
          },
          "metadata": {},
          "execution_count": 32
        }
      ]
    },
    {
      "cell_type": "markdown",
      "source": [
        "means  again 50 percent of elements are less than 31.5"
      ],
      "metadata": {
        "id": "zhr1s9w5htN7"
      }
    },
    {
      "cell_type": "code",
      "source": [
        " np.percentile(v,99)"
      ],
      "metadata": {
        "colab": {
          "base_uri": "https://localhost:8080/"
        },
        "id": "iBxfYA_Gh36n",
        "outputId": "71c2b6f3-1297-4028-acf5-872c0d546d74"
      },
      "execution_count": 33,
      "outputs": [
        {
          "output_type": "execute_result",
          "data": {
            "text/plain": [
              "np.float64(44.82)"
            ]
          },
          "metadata": {},
          "execution_count": 33
        }
      ]
    }
  ]
}