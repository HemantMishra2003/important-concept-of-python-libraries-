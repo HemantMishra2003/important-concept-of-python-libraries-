{
  "nbformat": 4,
  "nbformat_minor": 0,
  "metadata": {
    "colab": {
      "provenance": [],
      "authorship_tag": "ABX9TyMAGFqjuoUayyurxnqKJEya"
    },
    "kernelspec": {
      "name": "python3",
      "display_name": "Python 3"
    },
    "language_info": {
      "name": "python"
    }
  },
  "cells": [
    {
      "cell_type": "code",
      "execution_count": 1,
      "metadata": {
        "id": "Py1Qzkla-uft"
      },
      "outputs": [],
      "source": [
        "import numpy as np"
      ]
    },
    {
      "cell_type": "code",
      "source": [
        "arr4 = np.random.randint(low=1,high=100,size=20).reshape(4,5)"
      ],
      "metadata": {
        "id": "dP5MiBeQ_AR0"
      },
      "execution_count": 7,
      "outputs": []
    },
    {
      "cell_type": "markdown",
      "source": [
        "in this function ,we are creating a array in which numbers are  from 1 to 100 ...and digits should be total 20....\n"
      ],
      "metadata": {
        "id": "ky-8BMn5_qkv"
      }
    },
    {
      "cell_type": "code",
      "source": [
        "arr4"
      ],
      "metadata": {
        "colab": {
          "base_uri": "https://localhost:8080/"
        },
        "id": "bA9ZNiK7_lno",
        "outputId": "a23ea188-0f90-485f-e4ad-80bb203f9da7"
      },
      "execution_count": 10,
      "outputs": [
        {
          "output_type": "execute_result",
          "data": {
            "text/plain": [
              "array([[22, 47, 10, 46, 96],\n",
              "       [85,  1, 22, 83, 59],\n",
              "       [13, 83, 41, 78, 33],\n",
              "       [25, 63, 93, 26, 74]])"
            ]
          },
          "metadata": {},
          "execution_count": 10
        }
      ]
    },
    {
      "cell_type": "code",
      "source": [
        "arr4[0][2]"
      ],
      "metadata": {
        "colab": {
          "base_uri": "https://localhost:8080/"
        },
        "id": "jsoIWOKc_ptN",
        "outputId": "46bd8133-7501-4ec0-d93e-c03c6fdeb1b4"
      },
      "execution_count": 11,
      "outputs": [
        {
          "output_type": "execute_result",
          "data": {
            "text/plain": [
              "np.int64(10)"
            ]
          },
          "metadata": {},
          "execution_count": 11
        }
      ]
    },
    {
      "cell_type": "markdown",
      "source": [
        "simply means that arra0means first row and 2 means 1 st row third coloumn digit"
      ],
      "metadata": {
        "id": "iUg8D3C-AhUU"
      }
    },
    {
      "cell_type": "code",
      "source": [
        "arr4[0][4]"
      ],
      "metadata": {
        "colab": {
          "base_uri": "https://localhost:8080/"
        },
        "id": "lb_xxK03ANY9",
        "outputId": "ad01e389-7620-4bda-8216-1ea3c471661d"
      },
      "execution_count": 12,
      "outputs": [
        {
          "output_type": "execute_result",
          "data": {
            "text/plain": [
              "np.int64(96)"
            ]
          },
          "metadata": {},
          "execution_count": 12
        }
      ]
    },
    {
      "cell_type": "markdown",
      "source": [
        "same here too\n"
      ],
      "metadata": {
        "id": "pNb5js3MAvDd"
      }
    },
    {
      "cell_type": "code",
      "source": [
        "arr4[0]"
      ],
      "metadata": {
        "colab": {
          "base_uri": "https://localhost:8080/"
        },
        "id": "3BXRwW62Awwc",
        "outputId": "b5413dc2-6744-4e7e-fe27-4f906ecebdf8"
      },
      "execution_count": 14,
      "outputs": [
        {
          "output_type": "execute_result",
          "data": {
            "text/plain": [
              "array([22, 47, 10, 46, 96])"
            ]
          },
          "metadata": {},
          "execution_count": 14
        }
      ]
    },
    {
      "cell_type": "code",
      "source": [
        "arr4>5"
      ],
      "metadata": {
        "colab": {
          "base_uri": "https://localhost:8080/"
        },
        "id": "Jg7FMULSA3Ej",
        "outputId": "eb0bcc4f-2c15-4b50-e210-355251bfe3bc"
      },
      "execution_count": 15,
      "outputs": [
        {
          "output_type": "execute_result",
          "data": {
            "text/plain": [
              "array([[ True,  True,  True,  True,  True],\n",
              "       [ True, False,  True,  True,  True],\n",
              "       [ True,  True,  True,  True,  True],\n",
              "       [ True,  True,  True,  True,  True]])"
            ]
          },
          "metadata": {},
          "execution_count": 15
        }
      ]
    },
    {
      "cell_type": "code",
      "source": [
        "arr4[arr4>50]"
      ],
      "metadata": {
        "colab": {
          "base_uri": "https://localhost:8080/"
        },
        "id": "3W0p8GCyA0iN",
        "outputId": "6a45aa52-862f-463e-8fe8-5af40cbb914d"
      },
      "execution_count": 19,
      "outputs": [
        {
          "output_type": "execute_result",
          "data": {
            "text/plain": [
              "array([96, 85, 83, 59, 83, 78, 63, 93, 74])"
            ]
          },
          "metadata": {},
          "execution_count": 19
        }
      ]
    },
    {
      "cell_type": "markdown",
      "source": [
        "by this function the digit which is greater than 50 in   arrray only that ill be printed out ...."
      ],
      "metadata": {
        "id": "SWlxnmCKBs2s"
      }
    },
    {
      "cell_type": "code",
      "source": [
        "arr4[(arr4>50)&(arr4%2!=0)]"
      ],
      "metadata": {
        "colab": {
          "base_uri": "https://localhost:8080/"
        },
        "id": "0Xgx7HJTCz5s",
        "outputId": "80b25400-5288-4476-febf-c7661d4a133f"
      },
      "execution_count": 22,
      "outputs": [
        {
          "output_type": "execute_result",
          "data": {
            "text/plain": [
              "array([85, 83, 59, 83, 63, 93])"
            ]
          },
          "metadata": {},
          "execution_count": 22
        }
      ]
    },
    {
      "cell_type": "markdown",
      "source": [
        "in array digits which are greater than 50 and also not divisible by 2 ...print it"
      ],
      "metadata": {
        "id": "d6JOpgUzDgdP"
      }
    },
    {
      "cell_type": "code",
      "source": [
        "arr4[(arr4>50)&(arr4%2!=0)] = 0"
      ],
      "metadata": {
        "id": "zPvoR9ICDw_N"
      },
      "execution_count": 23,
      "outputs": []
    },
    {
      "cell_type": "code",
      "source": [
        "arr4"
      ],
      "metadata": {
        "colab": {
          "base_uri": "https://localhost:8080/"
        },
        "id": "EVkhBsC3D87p",
        "outputId": "137e9d61-7ae5-45f9-f66c-a80677a00891"
      },
      "execution_count": 25,
      "outputs": [
        {
          "output_type": "execute_result",
          "data": {
            "text/plain": [
              "array([[22, 47, 10, 46, 96],\n",
              "       [ 0,  1, 22,  0,  0],\n",
              "       [13,  0, 41, 78, 33],\n",
              "       [25,  0,  0, 26, 74]])"
            ]
          },
          "metadata": {},
          "execution_count": 25
        }
      ]
    },
    {
      "cell_type": "markdown",
      "source": [
        "which elements are greater than 50 and not divisible by 2 ..change that elements in 0.."
      ],
      "metadata": {
        "id": "QW4qnWWbEFMv"
      }
    }
  ]
}
